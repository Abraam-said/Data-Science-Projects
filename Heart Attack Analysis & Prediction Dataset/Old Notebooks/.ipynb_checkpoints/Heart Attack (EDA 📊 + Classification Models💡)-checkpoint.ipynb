{
 "cells": [
  {
   "cell_type": "markdown",
   "id": "f16c5c4f",
   "metadata": {},
   "source": [
    "<div style=\" text-align: center; justify-content: center; align-items: center; background-color: lightblue; padding: 10px;  border-radius: 10px;\">\n",
    "    <h1 style=\"color: black;  margin-top: 9px; margin-bottom: 9px; \">Introduction</h1>\n",
    "</div>"
   ]
  },
  {
   "cell_type": "markdown",
   "id": "70fd0b32",
   "metadata": {},
   "source": [
    "\"**Heart attacks** are a serious health issue worldwide\". We aim to predict the likelihood of someone having a heart attack using data analysis and machine learning. **The goal of this analysis** is to help individuals understand their risk and take preventive actions, ultimately reducing heart attack cases and saving lives."
   ]
  },
  {
   "cell_type": "markdown",
   "id": "cd90bbcf",
   "metadata": {},
   "source": [
    "<div style=\" text-align: center; justify-content: center; align-items: center; background-color: lightblue; padding: 10px;  border-radius: 10px;\">\n",
    "    <h1 style=\"color: black;  margin-top: 9px; margin-bottom: 9px; \">Table of Contents</h1>\n",
    "</div>"
   ]
  },
  {
   "cell_type": "markdown",
   "id": "05904a38",
   "metadata": {},
   "source": [
    "> - [1 - Import Libraries 📚](#1)\n",
    "> - [2 - Data Exploration 💾](#2)\n",
    ">    - [2.1 - Data Sample and Info](#2.1)\n",
    "> - [3 - Exploratory Data Analysis 📊](#3)\n",
    ">    - [3.1- Univariate Analysis](#3.1)\n",
    ">    - [3.2- Bivariate Analysis](#3.2)\n",
    "> - [4- EDA Conclusion 📈](#4)\n",
    "> - [5 - Data Preprocessing ⚒️](#5)\n",
    ">    - [5.1- Outlier Handling via Removing](#5.1)\n",
    ">    - [5.2- Data Split to Train and Test Sets](#5.2)\n",
    ">    - [5.3- Feature Scaling](#5.3)\n",
    "> - [6- Models Training and Evaluation ⚙️](#6)\n",
    ">    - [6.1- Logistic Regression Model](#6.1)\n",
    ">    - [6.2- K Nearest Keighbor Model](#6.2)\n",
    ">    - [6.3- Support Vector Classifier Model](#6.3)\n",
    ">    - [6.4- Naive Bayes Classifier Model](#6.4)\n",
    ">    - [6.5- Decision Tree Classifier Model](#6.5)\n",
    ">    - [6.6- Random Forest Classifier Model](#6.6)\n",
    ">    - [6.7- Ada Boost Classifier Model](#6.7)\n",
    ">    - [6.8- Gradient Boosting Classifier Model](#6.8)\n",
    ">    - [6.9- XGBoost Classifier Model](#6.9)\n",
    "> - [7- Models Predictions Conclusion💡](#7)"
   ]
  },
  {
   "cell_type": "markdown",
   "id": "a118c477",
   "metadata": {},
   "source": [
    "**``Data Source`` : https://www.kaggle.com/datasets/rashikrahmanpritom/heart-attack-analysis-prediction-dataset**"
   ]
  },
  {
   "cell_type": "markdown",
   "id": "f17419d1",
   "metadata": {},
   "source": [
    "<a class=\"anchor\"  id=\"1\"></a>\n",
    "<div style=\" text-align: center; justify-content: center; align-items: center; background-color: lightblue; padding: 10px;  border-radius: 10px;\">\n",
    "    <h1 style=\"color: black;  margin-top: 9px; margin-bottom: 9px; \">1- Import Libraries 📚</h1>\n",
    "</div>"
   ]
  },
  {
   "cell_type": "code",
   "execution_count": 1,
   "id": "30be0a37",
   "metadata": {},
   "outputs": [],
   "source": [
    "# EDA Libraries\n",
    "import pandas as pd\n",
    "import numpy as np\n",
    "import plotly.express as px\n",
    "import plotly.figure_factory as ff\n",
    "from plotly.subplots import make_subplots\n",
    "import plotly.graph_objects as go\n",
    "import seaborn as sns\n",
    "import matplotlib.pyplot as plt\n",
    "\n",
    "# Data Preprocessing Libraries\n",
    "from datasist.structdata import detect_outliers\n",
    "from sklearn.model_selection import train_test_split\n",
    "from sklearn.preprocessing import StandardScaler\n",
    "\n",
    "# Machine Learing (classification models) Libraries\n",
    "from sklearn.linear_model import LogisticRegression\n",
    "from sklearn.neighbors import KNeighborsClassifier\n",
    "from sklearn.svm import SVC\n",
    "from sklearn.naive_bayes import GaussianNB\n",
    "from sklearn.tree import DecisionTreeClassifier\n",
    "from sklearn.ensemble import RandomForestClassifier, AdaBoostClassifier, GradientBoostingClassifier\n",
    "from sklearn.metrics import confusion_matrix, accuracy_score, classification_report\n",
    "import xgboost as xgb\n",
    "from sklearn.model_selection import GridSearchCV\n",
    "\n",
    "%matplotlib inline  \n",
    "sns.set(rc={'figure.figsize': [11, 4]}, font_scale=0.7)"
   ]
  },
  {
   "cell_type": "markdown",
   "id": "4825c0d0",
   "metadata": {},
   "source": [
    "--------------------------------------"
   ]
  },
  {
   "cell_type": "markdown",
   "id": "fcee715b",
   "metadata": {},
   "source": [
    "<a class=\"anchor\"  id=\"2\"></a>\n",
    "<div style=\" text-align: center; justify-content: center; align-items: center; background-color: lightblue; padding: 10px;  border-radius: 10px;\">\n",
    "    <h1 style=\"color: black;  margin-top: 9px; margin-bottom: 9px; \">2- Data Exploration 💾</h1>\n",
    "</div>"
   ]
  },
  {
   "cell_type": "markdown",
   "id": "890820f9",
   "metadata": {},
   "source": [
    "<a class=\"anchor\"  id=\"2.1\"></a>\n",
    "## 2.1- Data Sample and Info"
   ]
  },
  {
   "cell_type": "code",
   "execution_count": 2,
   "id": "f4afa456",
   "metadata": {},
   "outputs": [
    {
     "ename": "FileNotFoundError",
     "evalue": "[Errno 2] No such file or directory: 'heart.csv'",
     "output_type": "error",
     "traceback": [
      "\u001b[1;31m---------------------------------------------------------------------------\u001b[0m",
      "\u001b[1;31mFileNotFoundError\u001b[0m                         Traceback (most recent call last)",
      "Cell \u001b[1;32mIn[2], line 1\u001b[0m\n\u001b[1;32m----> 1\u001b[0m df \u001b[38;5;241m=\u001b[39m \u001b[43mpd\u001b[49m\u001b[38;5;241;43m.\u001b[39;49m\u001b[43mread_csv\u001b[49m\u001b[43m(\u001b[49m\u001b[38;5;124;43m'\u001b[39;49m\u001b[38;5;124;43mheart.csv\u001b[39;49m\u001b[38;5;124;43m'\u001b[39;49m\u001b[43m)\u001b[49m\n\u001b[0;32m      2\u001b[0m df\u001b[38;5;241m.\u001b[39msample(\u001b[38;5;241m10\u001b[39m)\n",
      "File \u001b[1;32m~\\anaconda3\\envs\\ML\\lib\\site-packages\\pandas\\util\\_decorators.py:211\u001b[0m, in \u001b[0;36mdeprecate_kwarg.<locals>._deprecate_kwarg.<locals>.wrapper\u001b[1;34m(*args, **kwargs)\u001b[0m\n\u001b[0;32m    209\u001b[0m     \u001b[38;5;28;01melse\u001b[39;00m:\n\u001b[0;32m    210\u001b[0m         kwargs[new_arg_name] \u001b[38;5;241m=\u001b[39m new_arg_value\n\u001b[1;32m--> 211\u001b[0m \u001b[38;5;28;01mreturn\u001b[39;00m func(\u001b[38;5;241m*\u001b[39margs, \u001b[38;5;241m*\u001b[39m\u001b[38;5;241m*\u001b[39mkwargs)\n",
      "File \u001b[1;32m~\\anaconda3\\envs\\ML\\lib\\site-packages\\pandas\\util\\_decorators.py:331\u001b[0m, in \u001b[0;36mdeprecate_nonkeyword_arguments.<locals>.decorate.<locals>.wrapper\u001b[1;34m(*args, **kwargs)\u001b[0m\n\u001b[0;32m    325\u001b[0m \u001b[38;5;28;01mif\u001b[39;00m \u001b[38;5;28mlen\u001b[39m(args) \u001b[38;5;241m>\u001b[39m num_allow_args:\n\u001b[0;32m    326\u001b[0m     warnings\u001b[38;5;241m.\u001b[39mwarn(\n\u001b[0;32m    327\u001b[0m         msg\u001b[38;5;241m.\u001b[39mformat(arguments\u001b[38;5;241m=\u001b[39m_format_argument_list(allow_args)),\n\u001b[0;32m    328\u001b[0m         \u001b[38;5;167;01mFutureWarning\u001b[39;00m,\n\u001b[0;32m    329\u001b[0m         stacklevel\u001b[38;5;241m=\u001b[39mfind_stack_level(),\n\u001b[0;32m    330\u001b[0m     )\n\u001b[1;32m--> 331\u001b[0m \u001b[38;5;28;01mreturn\u001b[39;00m func(\u001b[38;5;241m*\u001b[39margs, \u001b[38;5;241m*\u001b[39m\u001b[38;5;241m*\u001b[39mkwargs)\n",
      "File \u001b[1;32m~\\anaconda3\\envs\\ML\\lib\\site-packages\\pandas\\io\\parsers\\readers.py:950\u001b[0m, in \u001b[0;36mread_csv\u001b[1;34m(filepath_or_buffer, sep, delimiter, header, names, index_col, usecols, squeeze, prefix, mangle_dupe_cols, dtype, engine, converters, true_values, false_values, skipinitialspace, skiprows, skipfooter, nrows, na_values, keep_default_na, na_filter, verbose, skip_blank_lines, parse_dates, infer_datetime_format, keep_date_col, date_parser, dayfirst, cache_dates, iterator, chunksize, compression, thousands, decimal, lineterminator, quotechar, quoting, doublequote, escapechar, comment, encoding, encoding_errors, dialect, error_bad_lines, warn_bad_lines, on_bad_lines, delim_whitespace, low_memory, memory_map, float_precision, storage_options)\u001b[0m\n\u001b[0;32m    935\u001b[0m kwds_defaults \u001b[38;5;241m=\u001b[39m _refine_defaults_read(\n\u001b[0;32m    936\u001b[0m     dialect,\n\u001b[0;32m    937\u001b[0m     delimiter,\n\u001b[1;32m   (...)\u001b[0m\n\u001b[0;32m    946\u001b[0m     defaults\u001b[38;5;241m=\u001b[39m{\u001b[38;5;124m\"\u001b[39m\u001b[38;5;124mdelimiter\u001b[39m\u001b[38;5;124m\"\u001b[39m: \u001b[38;5;124m\"\u001b[39m\u001b[38;5;124m,\u001b[39m\u001b[38;5;124m\"\u001b[39m},\n\u001b[0;32m    947\u001b[0m )\n\u001b[0;32m    948\u001b[0m kwds\u001b[38;5;241m.\u001b[39mupdate(kwds_defaults)\n\u001b[1;32m--> 950\u001b[0m \u001b[38;5;28;01mreturn\u001b[39;00m \u001b[43m_read\u001b[49m\u001b[43m(\u001b[49m\u001b[43mfilepath_or_buffer\u001b[49m\u001b[43m,\u001b[49m\u001b[43m \u001b[49m\u001b[43mkwds\u001b[49m\u001b[43m)\u001b[49m\n",
      "File \u001b[1;32m~\\anaconda3\\envs\\ML\\lib\\site-packages\\pandas\\io\\parsers\\readers.py:605\u001b[0m, in \u001b[0;36m_read\u001b[1;34m(filepath_or_buffer, kwds)\u001b[0m\n\u001b[0;32m    602\u001b[0m _validate_names(kwds\u001b[38;5;241m.\u001b[39mget(\u001b[38;5;124m\"\u001b[39m\u001b[38;5;124mnames\u001b[39m\u001b[38;5;124m\"\u001b[39m, \u001b[38;5;28;01mNone\u001b[39;00m))\n\u001b[0;32m    604\u001b[0m \u001b[38;5;66;03m# Create the parser.\u001b[39;00m\n\u001b[1;32m--> 605\u001b[0m parser \u001b[38;5;241m=\u001b[39m TextFileReader(filepath_or_buffer, \u001b[38;5;241m*\u001b[39m\u001b[38;5;241m*\u001b[39mkwds)\n\u001b[0;32m    607\u001b[0m \u001b[38;5;28;01mif\u001b[39;00m chunksize \u001b[38;5;129;01mor\u001b[39;00m iterator:\n\u001b[0;32m    608\u001b[0m     \u001b[38;5;28;01mreturn\u001b[39;00m parser\n",
      "File \u001b[1;32m~\\anaconda3\\envs\\ML\\lib\\site-packages\\pandas\\io\\parsers\\readers.py:1442\u001b[0m, in \u001b[0;36mTextFileReader.__init__\u001b[1;34m(self, f, engine, **kwds)\u001b[0m\n\u001b[0;32m   1439\u001b[0m     \u001b[38;5;28mself\u001b[39m\u001b[38;5;241m.\u001b[39moptions[\u001b[38;5;124m\"\u001b[39m\u001b[38;5;124mhas_index_names\u001b[39m\u001b[38;5;124m\"\u001b[39m] \u001b[38;5;241m=\u001b[39m kwds[\u001b[38;5;124m\"\u001b[39m\u001b[38;5;124mhas_index_names\u001b[39m\u001b[38;5;124m\"\u001b[39m]\n\u001b[0;32m   1441\u001b[0m \u001b[38;5;28mself\u001b[39m\u001b[38;5;241m.\u001b[39mhandles: IOHandles \u001b[38;5;241m|\u001b[39m \u001b[38;5;28;01mNone\u001b[39;00m \u001b[38;5;241m=\u001b[39m \u001b[38;5;28;01mNone\u001b[39;00m\n\u001b[1;32m-> 1442\u001b[0m \u001b[38;5;28mself\u001b[39m\u001b[38;5;241m.\u001b[39m_engine \u001b[38;5;241m=\u001b[39m \u001b[38;5;28;43mself\u001b[39;49m\u001b[38;5;241;43m.\u001b[39;49m\u001b[43m_make_engine\u001b[49m\u001b[43m(\u001b[49m\u001b[43mf\u001b[49m\u001b[43m,\u001b[49m\u001b[43m \u001b[49m\u001b[38;5;28;43mself\u001b[39;49m\u001b[38;5;241;43m.\u001b[39;49m\u001b[43mengine\u001b[49m\u001b[43m)\u001b[49m\n",
      "File \u001b[1;32m~\\anaconda3\\envs\\ML\\lib\\site-packages\\pandas\\io\\parsers\\readers.py:1735\u001b[0m, in \u001b[0;36mTextFileReader._make_engine\u001b[1;34m(self, f, engine)\u001b[0m\n\u001b[0;32m   1733\u001b[0m     \u001b[38;5;28;01mif\u001b[39;00m \u001b[38;5;124m\"\u001b[39m\u001b[38;5;124mb\u001b[39m\u001b[38;5;124m\"\u001b[39m \u001b[38;5;129;01mnot\u001b[39;00m \u001b[38;5;129;01min\u001b[39;00m mode:\n\u001b[0;32m   1734\u001b[0m         mode \u001b[38;5;241m+\u001b[39m\u001b[38;5;241m=\u001b[39m \u001b[38;5;124m\"\u001b[39m\u001b[38;5;124mb\u001b[39m\u001b[38;5;124m\"\u001b[39m\n\u001b[1;32m-> 1735\u001b[0m \u001b[38;5;28mself\u001b[39m\u001b[38;5;241m.\u001b[39mhandles \u001b[38;5;241m=\u001b[39m \u001b[43mget_handle\u001b[49m\u001b[43m(\u001b[49m\n\u001b[0;32m   1736\u001b[0m \u001b[43m    \u001b[49m\u001b[43mf\u001b[49m\u001b[43m,\u001b[49m\n\u001b[0;32m   1737\u001b[0m \u001b[43m    \u001b[49m\u001b[43mmode\u001b[49m\u001b[43m,\u001b[49m\n\u001b[0;32m   1738\u001b[0m \u001b[43m    \u001b[49m\u001b[43mencoding\u001b[49m\u001b[38;5;241;43m=\u001b[39;49m\u001b[38;5;28;43mself\u001b[39;49m\u001b[38;5;241;43m.\u001b[39;49m\u001b[43moptions\u001b[49m\u001b[38;5;241;43m.\u001b[39;49m\u001b[43mget\u001b[49m\u001b[43m(\u001b[49m\u001b[38;5;124;43m\"\u001b[39;49m\u001b[38;5;124;43mencoding\u001b[39;49m\u001b[38;5;124;43m\"\u001b[39;49m\u001b[43m,\u001b[49m\u001b[43m \u001b[49m\u001b[38;5;28;43;01mNone\u001b[39;49;00m\u001b[43m)\u001b[49m\u001b[43m,\u001b[49m\n\u001b[0;32m   1739\u001b[0m \u001b[43m    \u001b[49m\u001b[43mcompression\u001b[49m\u001b[38;5;241;43m=\u001b[39;49m\u001b[38;5;28;43mself\u001b[39;49m\u001b[38;5;241;43m.\u001b[39;49m\u001b[43moptions\u001b[49m\u001b[38;5;241;43m.\u001b[39;49m\u001b[43mget\u001b[49m\u001b[43m(\u001b[49m\u001b[38;5;124;43m\"\u001b[39;49m\u001b[38;5;124;43mcompression\u001b[39;49m\u001b[38;5;124;43m\"\u001b[39;49m\u001b[43m,\u001b[49m\u001b[43m \u001b[49m\u001b[38;5;28;43;01mNone\u001b[39;49;00m\u001b[43m)\u001b[49m\u001b[43m,\u001b[49m\n\u001b[0;32m   1740\u001b[0m \u001b[43m    \u001b[49m\u001b[43mmemory_map\u001b[49m\u001b[38;5;241;43m=\u001b[39;49m\u001b[38;5;28;43mself\u001b[39;49m\u001b[38;5;241;43m.\u001b[39;49m\u001b[43moptions\u001b[49m\u001b[38;5;241;43m.\u001b[39;49m\u001b[43mget\u001b[49m\u001b[43m(\u001b[49m\u001b[38;5;124;43m\"\u001b[39;49m\u001b[38;5;124;43mmemory_map\u001b[39;49m\u001b[38;5;124;43m\"\u001b[39;49m\u001b[43m,\u001b[49m\u001b[43m \u001b[49m\u001b[38;5;28;43;01mFalse\u001b[39;49;00m\u001b[43m)\u001b[49m\u001b[43m,\u001b[49m\n\u001b[0;32m   1741\u001b[0m \u001b[43m    \u001b[49m\u001b[43mis_text\u001b[49m\u001b[38;5;241;43m=\u001b[39;49m\u001b[43mis_text\u001b[49m\u001b[43m,\u001b[49m\n\u001b[0;32m   1742\u001b[0m \u001b[43m    \u001b[49m\u001b[43merrors\u001b[49m\u001b[38;5;241;43m=\u001b[39;49m\u001b[38;5;28;43mself\u001b[39;49m\u001b[38;5;241;43m.\u001b[39;49m\u001b[43moptions\u001b[49m\u001b[38;5;241;43m.\u001b[39;49m\u001b[43mget\u001b[49m\u001b[43m(\u001b[49m\u001b[38;5;124;43m\"\u001b[39;49m\u001b[38;5;124;43mencoding_errors\u001b[39;49m\u001b[38;5;124;43m\"\u001b[39;49m\u001b[43m,\u001b[49m\u001b[43m \u001b[49m\u001b[38;5;124;43m\"\u001b[39;49m\u001b[38;5;124;43mstrict\u001b[39;49m\u001b[38;5;124;43m\"\u001b[39;49m\u001b[43m)\u001b[49m\u001b[43m,\u001b[49m\n\u001b[0;32m   1743\u001b[0m \u001b[43m    \u001b[49m\u001b[43mstorage_options\u001b[49m\u001b[38;5;241;43m=\u001b[39;49m\u001b[38;5;28;43mself\u001b[39;49m\u001b[38;5;241;43m.\u001b[39;49m\u001b[43moptions\u001b[49m\u001b[38;5;241;43m.\u001b[39;49m\u001b[43mget\u001b[49m\u001b[43m(\u001b[49m\u001b[38;5;124;43m\"\u001b[39;49m\u001b[38;5;124;43mstorage_options\u001b[39;49m\u001b[38;5;124;43m\"\u001b[39;49m\u001b[43m,\u001b[49m\u001b[43m \u001b[49m\u001b[38;5;28;43;01mNone\u001b[39;49;00m\u001b[43m)\u001b[49m\u001b[43m,\u001b[49m\n\u001b[0;32m   1744\u001b[0m \u001b[43m\u001b[49m\u001b[43m)\u001b[49m\n\u001b[0;32m   1745\u001b[0m \u001b[38;5;28;01massert\u001b[39;00m \u001b[38;5;28mself\u001b[39m\u001b[38;5;241m.\u001b[39mhandles \u001b[38;5;129;01mis\u001b[39;00m \u001b[38;5;129;01mnot\u001b[39;00m \u001b[38;5;28;01mNone\u001b[39;00m\n\u001b[0;32m   1746\u001b[0m f \u001b[38;5;241m=\u001b[39m \u001b[38;5;28mself\u001b[39m\u001b[38;5;241m.\u001b[39mhandles\u001b[38;5;241m.\u001b[39mhandle\n",
      "File \u001b[1;32m~\\anaconda3\\envs\\ML\\lib\\site-packages\\pandas\\io\\common.py:856\u001b[0m, in \u001b[0;36mget_handle\u001b[1;34m(path_or_buf, mode, encoding, compression, memory_map, is_text, errors, storage_options)\u001b[0m\n\u001b[0;32m    851\u001b[0m \u001b[38;5;28;01melif\u001b[39;00m \u001b[38;5;28misinstance\u001b[39m(handle, \u001b[38;5;28mstr\u001b[39m):\n\u001b[0;32m    852\u001b[0m     \u001b[38;5;66;03m# Check whether the filename is to be opened in binary mode.\u001b[39;00m\n\u001b[0;32m    853\u001b[0m     \u001b[38;5;66;03m# Binary mode does not support 'encoding' and 'newline'.\u001b[39;00m\n\u001b[0;32m    854\u001b[0m     \u001b[38;5;28;01mif\u001b[39;00m ioargs\u001b[38;5;241m.\u001b[39mencoding \u001b[38;5;129;01mand\u001b[39;00m \u001b[38;5;124m\"\u001b[39m\u001b[38;5;124mb\u001b[39m\u001b[38;5;124m\"\u001b[39m \u001b[38;5;129;01mnot\u001b[39;00m \u001b[38;5;129;01min\u001b[39;00m ioargs\u001b[38;5;241m.\u001b[39mmode:\n\u001b[0;32m    855\u001b[0m         \u001b[38;5;66;03m# Encoding\u001b[39;00m\n\u001b[1;32m--> 856\u001b[0m         handle \u001b[38;5;241m=\u001b[39m \u001b[38;5;28;43mopen\u001b[39;49m\u001b[43m(\u001b[49m\n\u001b[0;32m    857\u001b[0m \u001b[43m            \u001b[49m\u001b[43mhandle\u001b[49m\u001b[43m,\u001b[49m\n\u001b[0;32m    858\u001b[0m \u001b[43m            \u001b[49m\u001b[43mioargs\u001b[49m\u001b[38;5;241;43m.\u001b[39;49m\u001b[43mmode\u001b[49m\u001b[43m,\u001b[49m\n\u001b[0;32m    859\u001b[0m \u001b[43m            \u001b[49m\u001b[43mencoding\u001b[49m\u001b[38;5;241;43m=\u001b[39;49m\u001b[43mioargs\u001b[49m\u001b[38;5;241;43m.\u001b[39;49m\u001b[43mencoding\u001b[49m\u001b[43m,\u001b[49m\n\u001b[0;32m    860\u001b[0m \u001b[43m            \u001b[49m\u001b[43merrors\u001b[49m\u001b[38;5;241;43m=\u001b[39;49m\u001b[43merrors\u001b[49m\u001b[43m,\u001b[49m\n\u001b[0;32m    861\u001b[0m \u001b[43m            \u001b[49m\u001b[43mnewline\u001b[49m\u001b[38;5;241;43m=\u001b[39;49m\u001b[38;5;124;43m\"\u001b[39;49m\u001b[38;5;124;43m\"\u001b[39;49m\u001b[43m,\u001b[49m\n\u001b[0;32m    862\u001b[0m \u001b[43m        \u001b[49m\u001b[43m)\u001b[49m\n\u001b[0;32m    863\u001b[0m     \u001b[38;5;28;01melse\u001b[39;00m:\n\u001b[0;32m    864\u001b[0m         \u001b[38;5;66;03m# Binary mode\u001b[39;00m\n\u001b[0;32m    865\u001b[0m         handle \u001b[38;5;241m=\u001b[39m \u001b[38;5;28mopen\u001b[39m(handle, ioargs\u001b[38;5;241m.\u001b[39mmode)\n",
      "\u001b[1;31mFileNotFoundError\u001b[0m: [Errno 2] No such file or directory: 'heart.csv'"
     ]
    }
   ],
   "source": [
    "df = pd.read_csv('heart.csv')\n",
    "df.sample(10)"
   ]
  },
  {
   "cell_type": "markdown",
   "id": "bbb3e579",
   "metadata": {},
   "source": [
    "### Domain knowledge"
   ]
  },
  {
   "cell_type": "markdown",
   "id": "66b4aec4",
   "metadata": {},
   "source": [
    "  <blockquote>\n",
    "  <strong>Age</strong> : The patient's age.<br>\n",
    "  <strong>Sex</strong> : The patient's gender (0 for female, 1 for male).<br>\n",
    "  <strong>Chest Pain Type (cp)</strong> : Type of chest pain:\n",
    "  <ul>\n",
    "    <li>Value 0: Typical Angina : Severe chest pain, often during physical activity, relieved with rest or nitroglycerin.</li>\n",
    "    <li>Value 1: Atypical Angina : Variations in chest discomfort, not fitting the typical angina pattern.</li>\n",
    "    <li>Value 2: Non-Anginal Pain : Chest discomfort unrelated to heart issues, caused by various factors.</li>\n",
    "    <li>Value 3: Asymptomatic : Chest discomfort unrelated to heart issues, caused by various factors.</li>\n",
    "  </ul>\n",
    "  <strong>Resting Blood Pressure (trtbps)</strong> : Resting blood pressure.<br>\n",
    "  <strong>Serum Cholesterol Levels (chol)</strong> : Serum cholesterol levels.<br>\n",
    "  <strong>Fasting Blood Sugar (fbs)</strong> : Fasting blood sugar:\n",
    "  <ul>\n",
    "    <li>Value 0: <= 120 mg/dL</li>\n",
    "    <li>Value 1: > 120 mg/dL</li>\n",
    "  </ul>\n",
    "  <strong>Resting ECG Results (restecg)</strong> : Resting ECG results:\n",
    "  <ul>\n",
    "    <li>Value 0: Normal : Indicates a normal resting ECG result, suggesting no significant cardiac abnormalities.</li>\n",
    "    <li>Value 1: ST-T Wave Abnormality : Suggests an abnormality in the ST-T wave pattern, which could be indicative of myocardial ischemia or other cardiac issues.</li>\n",
    "    <li>Value 2: Probable or Definite Left Ventricular Hypertrophy : Suggests the presence of left ventricular hypertrophy, which is an enlargement of the left ventricle of the heart, often associated with high blood pressure or other heart conditions.</li>\n",
    "  </ul>\n",
    "  <strong>Maximum Heart Rate During Exercise (thalachh)</strong> : Maximum heart rate during exercise.<br>\n",
    "  <strong>Exercise-Induced Angina (exng)</strong> : Exercise-induced angina:\n",
    "  <ul>\n",
    "    <li>Value 0: No</li>\n",
    "    <li>Value 1: Yes</li>\n",
    "  </ul>\n",
    "  <strong>ST-Segment Depression (oldpeak)</strong> : ST-segment depression.<br>\n",
    "  <strong>Slope of ST Segment (slp)</strong> : Slope of ST segment:\n",
    "  <ul>\n",
    "    <li>Value 0: Downsloping : Represents a downsloping ST segment on the ECG, which can indicate certain heart conditions.</li>\n",
    "    <li>Value 1: Flat : Indicates a flat ST segment on the ECG, which may have clinical significance in diagnosing heart issues.</li>\n",
    "    <li>Value 2: Upsloping : Refers to an upsloping ST segment on the ECG, which can also be relevant in cardiovascular diagnosis.</li>\n",
    "  </ul>\n",
    "  <strong>Number of Major Vessels Colored by Fluoroscopy (caa)</strong> : Number of major vessels colored by fluoroscopy.<br>\n",
    "  <strong>Thalassemia Type (thall)</strong> : Thalassemia type:\n",
    "  <ul>\n",
    "    <li>Value 0: None (Normal) : Represents a normal thalassemia type, indicating no thalassemia-related issues.</li>\n",
    "    <li>Value 1: Fixed Defect : Indicates the presence of a fixed thalassemia defect that is not reversible.</li>\n",
    "    <li>Value 2: Reversible Defect : Suggests a thalassemia defect that is potentially reversible.</li>\n",
    "    <li>Value 3: Thalassemia : Represents the general presence of thalassemia without specifying further details.</li>\n",
    "  </ul>\n",
    "  <strong>Risk of Heart Attack (output)</strong> : Risk of heart attack:\n",
    "  <ul>\n",
    "    <li>Value 0: No</li>\n",
    "    <li>Value 1: Yes</li>\n",
    "  </ul>\n",
    "</blockquote>"
   ]
  },
  {
   "cell_type": "code",
   "execution_count": null,
   "id": "04a3235b",
   "metadata": {},
   "outputs": [],
   "source": [
    "df.columns"
   ]
  },
  {
   "cell_type": "code",
   "execution_count": null,
   "id": "f748583a",
   "metadata": {},
   "outputs": [],
   "source": [
    "# check the dataset shape\n",
    "print(\"Number of Columns in data\",df.shape[1])\n",
    "print(\"---------------------------------------\")\n",
    "print(\"Number of Rows in data\",df.shape[0])"
   ]
  },
  {
   "cell_type": "code",
   "execution_count": null,
   "id": "60f1b0fc",
   "metadata": {},
   "outputs": [],
   "source": [
    "# data information\n",
    "df.info()"
   ]
  },
  {
   "cell_type": "code",
   "execution_count": null,
   "id": "6ae7f7b5",
   "metadata": {},
   "outputs": [],
   "source": [
    "# checking for missing values in data\n",
    "df.isna().sum()"
   ]
  },
  {
   "cell_type": "markdown",
   "id": "4e8d8a6c",
   "metadata": {},
   "source": [
    "- Data does not contain any missing values"
   ]
  },
  {
   "cell_type": "code",
   "execution_count": null,
   "id": "3804c059",
   "metadata": {},
   "outputs": [],
   "source": [
    "# checking for duplicated values\n",
    "df.duplicated().sum()"
   ]
  },
  {
   "cell_type": "markdown",
   "id": "36a3f0ac",
   "metadata": {},
   "source": [
    "- Data contain 1 duplicated value"
   ]
  },
  {
   "cell_type": "code",
   "execution_count": null,
   "id": "0cd425fd",
   "metadata": {},
   "outputs": [],
   "source": [
    "# Removing duplicated data\n",
    "df.drop_duplicates(inplace=True)"
   ]
  },
  {
   "cell_type": "code",
   "execution_count": null,
   "id": "8a88b5c9",
   "metadata": {},
   "outputs": [],
   "source": [
    "# checking if duplicated value has been removed\n",
    "df.duplicated().sum()"
   ]
  },
  {
   "cell_type": "code",
   "execution_count": null,
   "id": "4b71ddb3",
   "metadata": {},
   "outputs": [],
   "source": [
    "# checking count the number of unique values in each column of the data\n",
    "df.nunique()"
   ]
  },
  {
   "cell_type": "code",
   "execution_count": null,
   "id": "b1b00d10",
   "metadata": {},
   "outputs": [],
   "source": [
    "# Descriptive analysis for numerical data\n",
    "df.describe().style.background_gradient()"
   ]
  },
  {
   "cell_type": "markdown",
   "id": "8fee8b19",
   "metadata": {},
   "source": [
    "-----------------------------------------------"
   ]
  },
  {
   "cell_type": "markdown",
   "id": "c7785899",
   "metadata": {},
   "source": [
    "<a class=\"anchor\"  id=\"3\"></a>\n",
    "<div style=\" text-align: center; justify-content: center; align-items: center; background-color: lightblue; padding: 10px;  border-radius: 10px;\">\n",
    "    <h1 style=\"color: black;  margin-top: 9px; margin-bottom: 9px; \">3- Exploratory Data Analysis 📊</h1>\n",
    "</div>"
   ]
  },
  {
   "cell_type": "markdown",
   "id": "34a706c4",
   "metadata": {},
   "source": [
    "<a class=\"anchor\"  id=\"3.1\"></a>\n",
    "## 3.1- Univariate Analysis"
   ]
  },
  {
   "cell_type": "markdown",
   "id": "de9ae661",
   "metadata": {},
   "source": [
    "### Exploration (age, sex, cp, fbs, restecg, exng, slp, caa, thall, output) Features"
   ]
  },
  {
   "cell_type": "code",
   "execution_count": null,
   "id": "68d587e5",
   "metadata": {},
   "outputs": [],
   "source": [
    "fig, axes = plt.subplots(5, 2, figsize=(12, 20))\n",
    "\n",
    "count_features = ['age', 'sex', 'cp', 'fbs', 'restecg', 'exng', 'slp', 'caa', 'thall', 'output']\n",
    "\n",
    "for i, ax in enumerate(axes.flat):\n",
    "    if i < len(count_features):\n",
    "        sns.countplot(data=df, x=count_features[i], ax=ax, palette='Set2', orient='h')\n",
    "        ax.set_title(f'Countplot for {count_features[i]}', fontsize=14)\n",
    "        ax.set_yticklabels([]) \n",
    "\n",
    "plt.tight_layout()\n",
    "\n",
    "plt.show()"
   ]
  },
  {
   "cell_type": "markdown",
   "id": "356c4a76",
   "metadata": {},
   "source": [
    "### Exploration (trtbps, chol, thalachh, oldpeak) Features"
   ]
  },
  {
   "cell_type": "code",
   "execution_count": null,
   "id": "0668939c",
   "metadata": {},
   "outputs": [],
   "source": [
    "fig, axes = plt.subplots(2, 2, figsize=(14, 8))\n",
    "\n",
    "num_features = ['trtbps', 'chol', 'thalachh', 'oldpeak']\n",
    "\n",
    "for i, ax in enumerate(axes.flat):\n",
    "    if i < len(num_features):\n",
    "        sns.boxplot(data=df, x=num_features[i], ax=ax, palette='Set2', orient='h')\n",
    "        ax.set_title(f'Boxplot for {num_features[i]}', fontsize=14)\n",
    "        ax.set_yticklabels([]) \n",
    "\n",
    "plt.tight_layout()\n",
    "\n",
    "plt.show()"
   ]
  },
  {
   "cell_type": "markdown",
   "id": "4586f39d",
   "metadata": {},
   "source": [
    "### **Observation of Univariate Analysis**"
   ]
  },
  {
   "cell_type": "markdown",
   "id": "e65beb55",
   "metadata": {},
   "source": [
    "- **``Outliers Exist``**: Minor Outliers were detected in every numeric column of the dataset during the examination.\n",
    "- **``Contextual Significance``**: These outliers are not anomalies or incorrect data points but are in alignment with the overall trends and patterns observed in the dataset.\n",
    "- **``Categorical Features``**: Many of the categorical features are imbalanced."
   ]
  },
  {
   "cell_type": "markdown",
   "id": "8ec2b28b",
   "metadata": {},
   "source": [
    "<a class=\"anchor\"  id=\"3.2\"></a>\n",
    "## 3.2- Bivariate Analysis"
   ]
  },
  {
   "cell_type": "markdown",
   "id": "94d15bed",
   "metadata": {},
   "source": [
    "### Correlation Matrix Summary"
   ]
  },
  {
   "cell_type": "code",
   "execution_count": null,
   "id": "2fbce150",
   "metadata": {},
   "outputs": [],
   "source": [
    "correlation_matrix = df.corr()\n",
    "\n",
    "fig = px.imshow(correlation_matrix, text_auto=True, color_continuous_scale='Viridis')\n",
    "\n",
    "fig.update_layout(\n",
    "    title=\"Correlation Matrix\",\n",
    "    paper_bgcolor='white',\n",
    "    plot_bgcolor='white',\n",
    "    xaxis_showticklabels=True,\n",
    "    yaxis_showticklabels=True,\n",
    "    autosize=False,  \n",
    "    width=1000,  \n",
    "    height=1000,  \n",
    ")\n",
    "\n",
    "fig.show()"
   ]
  },
  {
   "cell_type": "markdown",
   "id": "34348977",
   "metadata": {},
   "source": [
    "### Age and Risk of Heart Attack (Output)"
   ]
  },
  {
   "cell_type": "code",
   "execution_count": null,
   "id": "7dff124c",
   "metadata": {},
   "outputs": [],
   "source": [
    "fig = px.histogram(df, x='age', color='output', title='Age vs. Risk of Heart Attack (Output)',\n",
    "                   labels={'age': 'Age', 'output': 'Output'},\n",
    "                   marginal='box', barmode='group',\n",
    "                   color_discrete_sequence=['#1f77b4', '#ff7f0e']\n",
    "                   )\n",
    "\n",
    "fig.update_layout(\n",
    "    xaxis=dict(tickmode='linear', dtick=5),\n",
    "    bargap=0.1\n",
    ")\n",
    "\n",
    "fig.update_traces(marker=dict(line=dict(width=2, color='DarkSlateGrey')))\n",
    "fig.update_xaxes(showgrid=True, gridcolor='lightgray')\n",
    "fig.update_yaxes(showgrid=True, gridcolor='lightgray')\n",
    "fig.update_layout(title_font=dict(size=18), title_x=0.5, title_y=0.95)\n",
    "fig.update_layout(plot_bgcolor='white', paper_bgcolor='white')\n",
    "\n",
    "fig.show()"
   ]
  },
  {
   "cell_type": "markdown",
   "id": "7c480feb",
   "metadata": {},
   "source": [
    "### Sex and Risk of Heart Attack (Output)"
   ]
  },
  {
   "cell_type": "code",
   "execution_count": null,
   "id": "117a0f4d",
   "metadata": {},
   "outputs": [],
   "source": [
    "df_male = df[df['sex'] == 1]\n",
    "df_female = df[df['sex'] == 0]\n",
    "\n",
    "male_counts = df_male['output'].value_counts()\n",
    "female_counts = df_female['output'].value_counts()\n",
    "\n",
    "colors = ['#1f77b4', '#ff7f0e']  \n",
    "\n",
    "fig = make_subplots(rows=1, cols=2, subplot_titles=('Male', 'Female'), specs=[[{'type':'domain'}, {'type':'domain'}]])\n",
    "\n",
    "fig.add_trace(go.Pie(values=male_counts, name='Male',\n",
    "                     marker=dict(colors=colors)), 1,1)\n",
    "\n",
    "fig.add_trace(go.Pie(values=female_counts, name='Female',\n",
    "                     marker=dict(colors=colors)), 1,2)\n",
    "fig.update_traces(hole=.4)\n",
    "fig.update_layout(title_text='Sex vs. Risk of Heart Attack (Output)', title_font=dict(size=18), title_x=0.5, title_y=0.95,\n",
    "                 annotations=[dict(text='Male', x=0.22, y=0.45, font_size=25, showarrow=False),\n",
    "                 dict(text='Female', x=0.78, y=0.45, font_size=25, showarrow=False)])\n",
    "fig.update_layout(plot_bgcolor='white', paper_bgcolor='white')\n",
    "\n",
    "fig.show()"
   ]
  },
  {
   "cell_type": "markdown",
   "id": "57ee7ee5",
   "metadata": {},
   "source": [
    "### Cp (Chest Pain Types) and Risk of Heart Attack (Output) "
   ]
  },
  {
   "cell_type": "code",
   "execution_count": null,
   "id": "429fa166",
   "metadata": {},
   "outputs": [],
   "source": [
    "fig = px.histogram(df, x='cp', color='output', title='Cp (Chest Pain Types) vs. Risk of Heart Attack (Output)',\n",
    "                   labels={'cp': 'Chest Pain Types', 'output': 'Output'}, barmode='group',\n",
    "                   color_discrete_sequence=['#1f77b4', '#ff7f0e']\n",
    "       \n",
    "                   )\n",
    "fig.update_layout(\n",
    "    bargap=0.1\n",
    "   )\n",
    "\n",
    "fig.update_traces(marker=dict(line=dict(width=2, color='DarkSlateGrey')))\n",
    "fig.update_xaxes(showgrid=True, gridcolor='lightgray', tickvals=[0, 1, 2, 3],\n",
    "                 ticktext=['Typical Angina (0)', 'Atypical Angina (1)', 'Non-Anginal Pain (2)', 'Asymptomatic (3)'])\n",
    "fig.update_yaxes(showgrid=True, gridcolor='lightgray')\n",
    "fig.update_layout(title_font=dict(size=18), title_x=0.5, title_y=0.95)\n",
    "fig.update_layout(plot_bgcolor='white', paper_bgcolor='white')\n",
    "\n",
    "fig.show()"
   ]
  },
  {
   "cell_type": "markdown",
   "id": "e3a19a48",
   "metadata": {},
   "source": [
    "### Resting Blood Pressure (trtbps) and Risk of Heart Attack (output)"
   ]
  },
  {
   "cell_type": "code",
   "execution_count": null,
   "id": "56b47b37",
   "metadata": {},
   "outputs": [],
   "source": [
    "fig = px.box(df, x='output', y='trtbps', color='output', title='Resting Blood Pressure (trtbps) vs. Risk of Heart Attack (output)',\n",
    "              labels={'output': 'Heart Attack', 'trtbps': 'Resting Blood Pressure'},\n",
    "              points=\"all\", color_discrete_sequence=['#1f77b4', '#ff7f0e']\n",
    "             )\n",
    "\n",
    "fig.update_layout(\n",
    "    xaxis_title='Heart Attack (output)',  \n",
    "    yaxis_title='Resting Blood Pressure (trtbps)',\n",
    "    showlegend= False\n",
    ")\n",
    "fig.update_layout(plot_bgcolor='white', paper_bgcolor='white')\n",
    "fig.update_traces(marker=dict(line=dict(width=2, color='DarkSlateGrey')))\n",
    "fig.update_xaxes(showgrid=True, gridcolor='lightgray')\n",
    "fig.update_yaxes(showgrid=True, gridcolor='lightgray')\n",
    "\n",
    "fig.show()\n"
   ]
  },
  {
   "cell_type": "markdown",
   "id": "15a6f5b7",
   "metadata": {},
   "source": [
    "### Serum Cholesterol Levels (chol) and Risk of Heart Attack (output)"
   ]
  },
  {
   "cell_type": "code",
   "execution_count": null,
   "id": "af560310",
   "metadata": {},
   "outputs": [],
   "source": [
    "fig = px.box(df, x='output', y='chol', color='output', title='Serum Cholesterol Levels (chol) vs. Risk of Heart Attack (output)',\n",
    "              labels={'output': 'Heart Attack', 'chol': 'Serum Cholesterol'},\n",
    "              points=\"all\", color_discrete_sequence=['#1f77b4', '#ff7f0e']\n",
    "             )\n",
    "\n",
    "fig.update_layout(\n",
    "    xaxis_title='Heart Attack (output)',  \n",
    "    yaxis_title='Serum Cholesterol (chol)',\n",
    "    showlegend= False\n",
    ")\n",
    "fig.update_layout(plot_bgcolor='white', paper_bgcolor='white')\n",
    "fig.update_traces(marker=dict(line=dict(width=2, color='DarkSlateGrey')))\n",
    "fig.update_xaxes(showgrid=True, gridcolor='lightgray')\n",
    "fig.update_yaxes(showgrid=True, gridcolor='lightgray')\n",
    "\n",
    "fig.show()"
   ]
  },
  {
   "cell_type": "markdown",
   "id": "d9d3165b",
   "metadata": {},
   "source": [
    "### Fasting Blood Sugar (fbs) and Risk of Heart Attack (Output)"
   ]
  },
  {
   "cell_type": "code",
   "execution_count": null,
   "id": "c34e3ab4",
   "metadata": {},
   "outputs": [],
   "source": [
    "fig = px.histogram(df, x='fbs', color='output', title='Fasting Blood Sugar (fbs) vs. Risk of Heart Attack (Output)',\n",
    "                   labels={'fbs': 'Fasting Blood Sugar (fbs)', 'output': 'Output'}, \n",
    "                   category_orders={'fbs': ['0', '1']},  \n",
    "                   barmode='group',\n",
    "                   color_discrete_sequence=['#1f77b4', '#ff7f0e']   \n",
    "                   )\n",
    "\n",
    "fig.update_xaxes(tickvals=[0, 1], ticktext=['<= 120 mg/dL (0)', '> 120 mg/dL (1)']) \n",
    "\n",
    "fig.update_traces(marker=dict(line=dict(width=2, color='DarkSlateGrey')))\n",
    "fig.update_xaxes(showgrid=True, gridcolor='lightgray')\n",
    "fig.update_yaxes(showgrid=True, gridcolor='lightgray')\n",
    "fig.update_layout(title_font=dict(size=18), title_x=0.5, title_y=0.95)\n",
    "fig.update_layout(plot_bgcolor='white', paper_bgcolor='white')\n",
    "\n",
    "fig.show()\n"
   ]
  },
  {
   "cell_type": "markdown",
   "id": "fa1546b3",
   "metadata": {},
   "source": [
    "### Resting ECG Results (restecg) and Risk of Heart Attack (Output)"
   ]
  },
  {
   "cell_type": "code",
   "execution_count": null,
   "id": "de833b41",
   "metadata": {},
   "outputs": [],
   "source": [
    "fig = px.histogram(df, x='restecg', color='output', title='Resting ECG Results (restecg) vs. Risk of Heart Attack (Output)',\n",
    "                   labels={'restecg': 'Resting ECG Results (restecg)', 'output': 'Output'}, barmode='group',\n",
    "                   color_discrete_sequence=['#1f77b4', '#ff7f0e'],\n",
    "                   category_orders={'restecg': ['0', '1', '2']},  \n",
    "                   )\n",
    "\n",
    "fig.update_xaxes(tickvals=[0, 1, 2], ticktext=['Normal (0)', 'ST-T Wave Abnormality (1)', 'Probable/Definite LVH (2)'])\n",
    "\n",
    "fig.update_traces(marker=dict(line=dict(width=2, color='DarkSlateGrey')))\n",
    "fig.update_xaxes(showgrid=True, gridcolor='lightgray')\n",
    "fig.update_yaxes(showgrid=True, gridcolor='lightgray')\n",
    "fig.update_layout(title_font=dict(size=18), title_x=0.5, title_y=0.95)\n",
    "fig.update_layout(plot_bgcolor='white', paper_bgcolor='white')\n",
    "\n",
    "fig.show()"
   ]
  },
  {
   "cell_type": "markdown",
   "id": "a9de2811",
   "metadata": {},
   "source": [
    "### Maximum Heart Rate During Exercise (thalachh) and Risk of Heart Attack (Output)"
   ]
  },
  {
   "cell_type": "code",
   "execution_count": null,
   "id": "5d7cfab8",
   "metadata": {},
   "outputs": [],
   "source": [
    "thalachh_output_data = df.groupby('output').agg({\n",
    "    'thalachh': 'mean'\n",
    "}).reset_index()\n",
    "\n",
    "fig = px.histogram(thalachh_output_data ,x='output',  y='thalachh', \n",
    "                   color='output',\n",
    "                   title='Maximum Heart Rate  (thalachh) vs. Risk of Heart Attack (Output)',\n",
    "                   color_discrete_sequence=['#1f77b4', '#ff7f0e']\n",
    "                   )\n",
    "\n",
    "fig.update_layout( \n",
    "    xaxis_title='Heart Attack Presence (Output)',  \n",
    "    yaxis_title='Maximum Heart Rate (thalachh)',  \n",
    "    xaxis=dict(tickmode='array', tickvals=[0, 1]), \n",
    "    bargap=0.1\n",
    "   )\n",
    "\n",
    "fig.update_traces(marker=dict(line=dict(width=2, color='DarkSlateGrey')))\n",
    "fig.update_xaxes(showgrid=True, gridcolor='lightgray')\n",
    "fig.update_yaxes(showgrid=True, gridcolor='lightgray')\n",
    "fig.update_layout(title_font=dict(size=18), title_x=0.5, title_y=0.95)\n",
    "fig.update_layout(plot_bgcolor='white', paper_bgcolor='white')\n",
    "\n",
    "fig.show()"
   ]
  },
  {
   "cell_type": "markdown",
   "id": "acc65150",
   "metadata": {},
   "source": [
    "### Exercise-Induced Angina (exng) and Risk of Heart Attack (Output)"
   ]
  },
  {
   "cell_type": "code",
   "execution_count": null,
   "id": "eadd649e",
   "metadata": {},
   "outputs": [],
   "source": [
    "fig = px.histogram(df, x='exng', color='output', title='Exercise-Induced Angina (exng) vs. Risk of Heart Attack (Output)',\n",
    "                   labels={'exng': 'Exercise-Induced Angina (exng)', 'output': 'Output'}, \n",
    "                   barmode='group',\n",
    "                   color_discrete_sequence=['#1f77b4', '#ff7f0e']   \n",
    "                   )\n",
    "fig.update_layout(\n",
    "    bargap=0.1\n",
    "   )\n",
    "\n",
    "fig.update_traces(marker=dict(line=dict(width=2, color='DarkSlateGrey')))\n",
    "fig.update_xaxes(showgrid=True, gridcolor='lightgray')\n",
    "fig.update_yaxes(showgrid=True, gridcolor='lightgray')\n",
    "fig.update_layout(title_font=dict(size=18), title_x=0.5, title_y=0.95)\n",
    "fig.update_layout(plot_bgcolor='white', paper_bgcolor='white')\n",
    "\n",
    "fig.show()"
   ]
  },
  {
   "cell_type": "markdown",
   "id": "07342974",
   "metadata": {},
   "source": [
    "### Oldpeak vs. Risk of Heart Attack (Output)"
   ]
  },
  {
   "cell_type": "code",
   "execution_count": null,
   "id": "b4bb6c86",
   "metadata": {},
   "outputs": [],
   "source": [
    "fig = px.histogram(df, x='oldpeak', color='output', title='Oldpeak vs. Risk of Heart Attack (Output)',\n",
    "                   labels={'oldpeak': 'Oldpeak', 'output': 'Output'}, barmode='group',\n",
    "                   color_discrete_sequence=['#1f77b4', '#ff7f0e'])\n",
    "\n",
    "fig.update_layout(\n",
    "    bargap=0.1\n",
    ")\n",
    "\n",
    "fig.update_traces(marker=dict(line=dict(width=2, color='DarkSlateGrey')))\n",
    "fig.update_xaxes(showgrid=True, gridcolor='lightgray')\n",
    "fig.update_yaxes(showgrid=True, gridcolor='lightgray')\n",
    "fig.update_layout(title_font=dict(size=18), title_x=0.5, title_y=0.95)\n",
    "fig.update_layout(plot_bgcolor='white', paper_bgcolor='white')\n",
    "\n",
    "fig.show()\n"
   ]
  },
  {
   "cell_type": "markdown",
   "id": "5e331f35",
   "metadata": {},
   "source": [
    "what does it mean when oldpeak =0 has the highest output = 1 and oldpeak started to decrease from 1 to 6 with high output = 0"
   ]
  },
  {
   "cell_type": "markdown",
   "id": "ead00fa6",
   "metadata": {},
   "source": [
    "### Slope of ST Segment (slp) and Risk of Heart Attack (Output)"
   ]
  },
  {
   "cell_type": "code",
   "execution_count": null,
   "id": "0e08fc52",
   "metadata": {},
   "outputs": [],
   "source": [
    "fig = px.histogram(df, x='slp', color='output', title='slp (Slope of ST Segment) vs. Risk of Heart Attack (Output)',\n",
    "                   labels={'slp': 'Slope of ST Segment', 'output': 'Output'}, barmode='group',\n",
    "                   color_discrete_sequence=['#1f77b4', '#ff7f0e']   \n",
    "                   )\n",
    "fig.update_layout(\n",
    "    bargap=0.1\n",
    "   )\n",
    "\n",
    "fig.update_traces(marker=dict(line=dict(width=2, color='DarkSlateGrey')))\n",
    "fig.update_xaxes(showgrid=True, gridcolor='lightgray', tickvals=[0, 1, 2, 3],\n",
    "                ticktext=['Downsloping (0)', 'Flat (1)', 'Upsloping (2)'])\n",
    "fig.update_yaxes(showgrid=True, gridcolor='lightgray')\n",
    "fig.update_layout(title_font=dict(size=18), title_x=0.5, title_y=0.95)\n",
    "fig.update_layout(plot_bgcolor='white', paper_bgcolor='white')\n",
    "\n",
    "fig.show()"
   ]
  },
  {
   "cell_type": "markdown",
   "id": "bbf9f3df",
   "metadata": {},
   "source": [
    "### CAA and Risk of Heart Attack (Output)"
   ]
  },
  {
   "cell_type": "code",
   "execution_count": null,
   "id": "0fe45ffc",
   "metadata": {},
   "outputs": [],
   "source": [
    "fig = px.histogram(df, x='caa', color='output', barmode='group', \n",
    "                   color_discrete_sequence=['#1f77b4', '#ff7f0e'],\n",
    "                   labels={'caa': 'CAA (Number of Major Vessels)', 'output': 'Output'})\n",
    "fig.update_xaxes(title_text='CAA (Number of Major Vessels)')\n",
    "fig.update_yaxes(title_text='Count')\n",
    "\n",
    "fig.update_layout(title_text='CAA vs. Risk of Heart Attack  (Output)', title_font=dict(size=18), title_x=0.5, title_y=0.95)\n",
    "fig.update_layout(plot_bgcolor='white', paper_bgcolor='white')\n",
    "\n",
    "fig.show()"
   ]
  },
  {
   "cell_type": "markdown",
   "id": "00606286",
   "metadata": {},
   "source": [
    "### Thall and Risk of Heart Attack (Output)"
   ]
  },
  {
   "cell_type": "code",
   "execution_count": null,
   "id": "19bebef7",
   "metadata": {},
   "outputs": [],
   "source": [
    "fig = px.histogram(df, x='thall', color='output', barmode='group', \n",
    "                   color_discrete_sequence=['#1f77b4', '#ff7f0e'],\n",
    "                   labels={'thall': 'Thall (Thalassemia Type)', 'output': 'Output'},\n",
    "                   category_orders={'thall': [0, 1, 2, 3]},\n",
    "                   title='Thall vs. Risk of Heart Attack  (Output)')\n",
    "fig.update_xaxes(title_text='Thall (Thalassemia Type)', tickvals=[0, 1, 2, 3], \n",
    "                 ticktext=['None (Normal) (0)', 'Fixed Defect (1)', 'Reversible Defect (2)', 'Thalassemia (3)'])\n",
    "fig.update_yaxes(title_text='Count')\n",
    "\n",
    "fig.update_layout(title_font=dict(size=18), title_x=0.5, title_y=0.95)\n",
    "fig.update_layout(plot_bgcolor='white', paper_bgcolor='white')\n",
    "\n",
    "fig.show()"
   ]
  },
  {
   "cell_type": "markdown",
   "id": "a4739ad9",
   "metadata": {},
   "source": [
    "---------------------------------------------------------"
   ]
  },
  {
   "cell_type": "markdown",
   "id": "18dd5bb1",
   "metadata": {},
   "source": [
    "<a class=\"anchor\"  id=\"4\"></a>\n",
    "<div style=\" text-align: center; justify-content: center; align-items: center; background-color: lightblue; padding: 10px;  border-radius: 10px;\">\n",
    "    <h1 style=\"color: black;  margin-top: 9px; margin-bottom: 9px; \">4- EDA Conclusion 📈</h1>\n",
    "</div>"
   ]
  },
  {
   "cell_type": "markdown",
   "id": "7bc95066",
   "metadata": {},
   "source": [
    "<ul>\n",
    "  <li>Age has small effect on heart attack risk, with higher occurrences around ages 44-45 and 52-53. (Males are at higher risk than females)</li><br>\n",
    "  <li>Chest pain type (cp) plays a crucial role: People with Value 2 (Non-Anginal pain) face the highest heart attack risk, while those with Value 0 (Typical Angina) have the lowest heart attack risk.</li><br>\n",
    "  <li>Cholesterol levels (chol) and resting blood pressure (trtbps) exhibit weak correlations with heart attacks.</li><br>\n",
    "  <li>For people with <=120 mg/dL cholesterol, heart attack risk varies, whereas >120 mg/dL is associated with lower risk.</li><br>\n",
    "  <li>ST-T Wave Abnormality (restecg = 1) correlates with a higher likelihood of heart attacks, while Normal (restecg = 0) suggests lower heart attack risk. More data is needed for Probable/Definite LVH (restecg = 2).</li><br>\n",
    "  <li>A higher maximum heart rate during exercise (thalachh) indicates a higher risk of heart attacks.</li><br>\n",
    "  <li>People without exercise-induced angina (exng = 0) tend to have a higher chance of heart attacks.</li><br>\n",
    "  <li>An oldpeak of 0 signifies a greater risk of heart attack, while increasing oldpeak (1 to 6) suggests lower risk.</li><br>\n",
    "  <li>An upsloping ST segment (slp = 2) indicates a high risk of heart attacks, a flat ST segment (slp = 1) suggests a lower risk, and downsloping (slp = 0) indicates the lowest risk.</li><br>\n",
    "  <li>People with fewer major vessels (caa) face a much higher chance of heart attacks.</li><br>\n",
    "  <li>People with Thall = Reversible Defect (2) are associated with a significantly higher risk of heart attacks.</li><br>\n",
    "</ul>\n"
   ]
  },
  {
   "cell_type": "markdown",
   "id": "946d9f5e",
   "metadata": {},
   "source": [
    "---------------------------------------------------------------------------------------------"
   ]
  },
  {
   "cell_type": "markdown",
   "id": "e6cd4b81",
   "metadata": {},
   "source": [
    "<a class=\"anchor\"  id=\"5\"></a>\n",
    "<div style=\" text-align: center; justify-content: center; align-items: center; background-color: lightblue; padding: 10px;  border-radius: 10px;\">\n",
    "    <h1 style=\"color: black;  margin-top: 9px; margin-bottom: 9px; \">5- Data Preprocessing ⚒️</h1>\n",
    "</div>"
   ]
  },
  {
   "cell_type": "markdown",
   "id": "e5facb21",
   "metadata": {},
   "source": [
    "<a class=\"anchor\"  id=\"5.1\"></a>\n",
    "## 5.1- Outlier Handling via Removing"
   ]
  },
  {
   "cell_type": "code",
   "execution_count": null,
   "id": "94ecac71",
   "metadata": {},
   "outputs": [],
   "source": [
    "# outliers_indices = detect_outliers(df, n=0, features=df.columns)\n",
    "# len(outliers_indices)"
   ]
  },
  {
   "cell_type": "code",
   "execution_count": null,
   "id": "25c0963f",
   "metadata": {},
   "outputs": [],
   "source": [
    "# # # Removing outliers for better model performance\n",
    "# df.drop(outliers_indices, inplace=True)"
   ]
  },
  {
   "cell_type": "code",
   "execution_count": null,
   "id": "6c7f46ea",
   "metadata": {},
   "outputs": [],
   "source": []
  },
  {
   "cell_type": "markdown",
   "id": "79829909",
   "metadata": {},
   "source": [
    "<a class=\"anchor\"  id=\"5.2\"></a>\n",
    "## 5.2- Data Split to Train and Test Sets"
   ]
  },
  {
   "cell_type": "code",
   "execution_count": null,
   "id": "a4edb586",
   "metadata": {},
   "outputs": [],
   "source": [
    "# First we extract the x Featues and y Label\n",
    "x = df.drop(['output'], axis=1)\n",
    "y = df['output']"
   ]
  },
  {
   "cell_type": "code",
   "execution_count": null,
   "id": "2f7f58c4",
   "metadata": {},
   "outputs": [],
   "source": [
    "x.shape, y.shape"
   ]
  },
  {
   "cell_type": "code",
   "execution_count": null,
   "id": "a15ca439",
   "metadata": {},
   "outputs": [],
   "source": [
    "# Then we Split the data into training and testing sets (80% training, 20% testing)\n",
    "X_train, X_test, y_train, y_test = train_test_split(x, y, test_size=0.20, random_state=1)\n",
    "\n",
    "X_train.shape,X_test.shape,y_train.shape,y_test.shape"
   ]
  },
  {
   "cell_type": "markdown",
   "id": "6fe85e6d",
   "metadata": {},
   "source": [
    "<a class=\"anchor\"  id=\"5.3\"></a>\n",
    "## 5.3- Feature Scaling"
   ]
  },
  {
   "cell_type": "markdown",
   "id": "cb34c602",
   "metadata": {},
   "source": [
    "### Standardizing data with StandardScaler"
   ]
  },
  {
   "cell_type": "code",
   "execution_count": null,
   "id": "4d94292b",
   "metadata": {},
   "outputs": [],
   "source": [
    "scaler = StandardScaler()\n",
    "\n",
    "scaler.fit(X_train)\n",
    "\n",
    "X_train = scaler.transform(X_train)\n",
    "X_test = scaler.transform(X_test)"
   ]
  },
  {
   "cell_type": "code",
   "execution_count": null,
   "id": "7075839f",
   "metadata": {},
   "outputs": [],
   "source": [
    "X_train"
   ]
  },
  {
   "cell_type": "markdown",
   "id": "e97e7ee0",
   "metadata": {},
   "source": [
    "----------------------------------------------------------------"
   ]
  },
  {
   "cell_type": "markdown",
   "id": "bc56129c",
   "metadata": {},
   "source": [
    "<a class=\"anchor\"  id=\"6\"></a>\n",
    "<div style=\" text-align: center; justify-content: center; align-items: center; background-color: lightblue; padding: 10px;  border-radius: 10px;\">\n",
    "    <h1 style=\"color: black;  margin-top: 9px; margin-bottom: 9px; \">6- Models Training and Evaluation ⚙️</h1>\n",
    "</div>"
   ]
  },
  {
   "cell_type": "markdown",
   "id": "faf04c26",
   "metadata": {},
   "source": [
    "<a class=\"anchor\"  id=\"6.1\"></a>\n",
    "## 6.1- Logistic Regression Model"
   ]
  },
  {
   "cell_type": "code",
   "execution_count": null,
   "id": "ce9862c0",
   "metadata": {},
   "outputs": [],
   "source": [
    "lr=LogisticRegression()\n",
    "lr.fit(X_train, y_train)\n",
    "y_pred = lr.predict(X_test)\n",
    "print(f'Training Accuracy: {accuracy_score(y_train, lr.predict(X_train))}')\n",
    "print(f'Testing Accuracy: {accuracy_score(y_test, y_pred)}')\n",
    "print('------------------------------------------------------------------')\n",
    "print(f'Testing Confusion Matrix: \\n{confusion_matrix(y_test, y_pred)}')\n",
    "print('------------------------------------------------------------------')\n",
    "print(f'Testing Classification report: \\n{classification_report(y_test, y_pred)}')"
   ]
  },
  {
   "cell_type": "markdown",
   "id": "bdbbe1c7",
   "metadata": {},
   "source": [
    "<a class=\"anchor\"  id=\"6.2\"></a>\n",
    "## 6.2- K Nearest Keighbor Model"
   ]
  },
  {
   "cell_type": "code",
   "execution_count": null,
   "id": "9de01840",
   "metadata": {},
   "outputs": [],
   "source": [
    "knn=KNeighborsClassifier()\n",
    "knn.fit(X_train, y_train)\n",
    "y_pred = knn.predict(X_test)\n",
    "print(f'Training Accuracy: {accuracy_score(y_train, knn.predict(X_train))}')\n",
    "print(f'Testing Accuracy: {accuracy_score(y_test, y_pred)}')\n",
    "print('------------------------------------------------------------------')\n",
    "print(f'Testing Confusion Matrix: \\n{confusion_matrix(y_test, y_pred)}')\n",
    "print('------------------------------------------------------------------')\n",
    "print(f'Testing Classification report: \\n{classification_report(y_test, y_pred)}')"
   ]
  },
  {
   "cell_type": "markdown",
   "id": "44929aa4",
   "metadata": {},
   "source": [
    "<a class=\"anchor\"  id=\"6.3\"></a>\n",
    "## 6.3- Support Vector Classifier Model"
   ]
  },
  {
   "cell_type": "code",
   "execution_count": null,
   "id": "c47b28f6",
   "metadata": {},
   "outputs": [],
   "source": [
    "svc=SVC()\n",
    "svc.fit(X_train, y_train)\n",
    "y_pred = svc.predict(X_test)\n",
    "print(f'Training Accuracy: {accuracy_score(y_train, svc.predict(X_train))}')\n",
    "print(f'Testing Accuracy: {accuracy_score(y_test, y_pred)}')\n",
    "print('------------------------------------------------------------------')\n",
    "print(f'Testing Confusion Matrix: \\n{confusion_matrix(y_test, y_pred)}')\n",
    "print('------------------------------------------------------------------')\n",
    "print(f'Testing Classification report: \\n{classification_report(y_test, y_pred)}')"
   ]
  },
  {
   "cell_type": "markdown",
   "id": "b42b5f62",
   "metadata": {},
   "source": [
    "<a class=\"anchor\"  id=\"6.4\"></a>\n",
    "## 6.4- Naive Bayes Classifier Model"
   ]
  },
  {
   "cell_type": "code",
   "execution_count": null,
   "id": "7b9d8f09",
   "metadata": {},
   "outputs": [],
   "source": [
    "nb=GaussianNB()\n",
    "nb.fit(X_train, y_train)\n",
    "y_pred = nb.predict(X_test)\n",
    "print(f'Training Accuracy: {accuracy_score(y_train, nb.predict(X_train))}')\n",
    "print(f'Testing Accuracy: {accuracy_score(y_test, y_pred)}')\n",
    "print('------------------------------------------------------------------')\n",
    "print(f'Testing Confusion Matrix: \\n{confusion_matrix(y_test, y_pred)}')\n",
    "print('------------------------------------------------------------------')\n",
    "print(f'Testing Classification report: \\n{classification_report(y_test, y_pred)}')"
   ]
  },
  {
   "cell_type": "markdown",
   "id": "d63cbbe3",
   "metadata": {},
   "source": [
    "<a class=\"anchor\"  id=\"6.5\"></a>\n",
    "## 6.5- Decision Tree Classifier Model"
   ]
  },
  {
   "cell_type": "code",
   "execution_count": null,
   "id": "7ee97f7f",
   "metadata": {},
   "outputs": [],
   "source": [
    "dt=DecisionTreeClassifier()\n",
    "dt.fit(X_train, y_train)\n",
    "y_pred = dt.predict(X_test)\n",
    "print(f'Training Accuracy: {accuracy_score(y_train, dt.predict(X_train))}')\n",
    "print(f'Testing Accuracy: {accuracy_score(y_test, y_pred)}')\n",
    "print('------------------------------------------------------------------')\n",
    "print(f'Testing Confusion Matrix: \\n{confusion_matrix(y_test, y_pred)}')\n",
    "print('------------------------------------------------------------------')\n",
    "print(f'Testing Classification report: \\n{classification_report(y_test, y_pred)}')"
   ]
  },
  {
   "cell_type": "markdown",
   "id": "584f92da",
   "metadata": {},
   "source": [
    "<a class=\"anchor\"  id=\"6.6\"></a>\n",
    "## 6.6- Random Forest Classifier Model"
   ]
  },
  {
   "cell_type": "code",
   "execution_count": null,
   "id": "cddac7ba",
   "metadata": {},
   "outputs": [],
   "source": [
    "rf=RandomForestClassifier()\n",
    "rf.fit(X_train, y_train)\n",
    "y_pred = dt.predict(X_test)\n",
    "print(f'Training Accuracy: {accuracy_score(y_train, rf.predict(X_train))}')\n",
    "print(f'Testing Accuracy: {accuracy_score(y_test, y_pred)}')\n",
    "print('------------------------------------------------------------------')\n",
    "print(f'Testing Confusion Matrix: \\n{confusion_matrix(y_test, y_pred)}')\n",
    "print('------------------------------------------------------------------')\n",
    "print(f'Testing Classification report: \\n{classification_report(y_test, y_pred)}')"
   ]
  },
  {
   "cell_type": "markdown",
   "id": "089f4b87",
   "metadata": {},
   "source": [
    "<a class=\"anchor\"  id=\"6.7\"></a>\n",
    "## 6.7- Ada Boost Classifier Model"
   ]
  },
  {
   "cell_type": "code",
   "execution_count": null,
   "id": "92f90e38",
   "metadata": {},
   "outputs": [],
   "source": [
    "ada=AdaBoostClassifier()\n",
    "ada.fit(X_train, y_train)\n",
    "y_pred = ada.predict(X_test)\n",
    "print(f'Training Accuracy: {accuracy_score(y_train, ada.predict(X_train))}')\n",
    "print(f'Testing Accuracy: {accuracy_score(y_test, y_pred)}')\n",
    "print('------------------------------------------------------------------')\n",
    "print(f'Testing Confusion Matrix: \\n{confusion_matrix(y_test, y_pred)}')\n",
    "print('------------------------------------------------------------------')\n",
    "print(f'Testing Classification report: \\n{classification_report(y_test, y_pred)}')"
   ]
  },
  {
   "cell_type": "markdown",
   "id": "aa091097",
   "metadata": {},
   "source": [
    "<a class=\"anchor\"  id=\"6.8\"></a>\n",
    "## 6.8- Gradient Boosting Classifier Model"
   ]
  },
  {
   "cell_type": "code",
   "execution_count": null,
   "id": "ae2a93c6",
   "metadata": {},
   "outputs": [],
   "source": [
    "gb=GradientBoostingClassifier()\n",
    "gb.fit(X_train, y_train)\n",
    "y_pred = gb.predict(X_test)\n",
    "print(f'Training Accuracy: {accuracy_score(y_train, gb.predict(X_train))}')\n",
    "print(f'Testing Accuracy: {accuracy_score(y_test, y_pred)}')\n",
    "print('------------------------------------------------------------------')\n",
    "print(f'Testing Confusion Matrix: \\n{confusion_matrix(y_test, y_pred)}')\n",
    "print('------------------------------------------------------------------')\n",
    "print(f'Testing Classification report: \\n{classification_report(y_test, y_pred)}')"
   ]
  },
  {
   "cell_type": "markdown",
   "id": "222ca7da",
   "metadata": {},
   "source": [
    "<a class=\"anchor\"  id=\"6.9\"></a>\n",
    "## 6.9- XGBoost Classifier Model"
   ]
  },
  {
   "cell_type": "code",
   "execution_count": null,
   "id": "c7ae0747",
   "metadata": {},
   "outputs": [],
   "source": [
    "xgboost=xgb.XGBClassifier()\n",
    "xgboost.fit(X_train, y_train)\n",
    "y_pred = xgboost.predict(X_test)\n",
    "print(f'Training Accuracy: {accuracy_score(y_train, xgboost.predict(X_train))}')\n",
    "print(f'Testing Accuracy: {accuracy_score(y_test, y_pred)}')\n",
    "print('------------------------------------------------------------------')\n",
    "print(f'Testing Confusion Matrix: \\n{confusion_matrix(y_test, y_pred)}')\n",
    "print('------------------------------------------------------------------')\n",
    "print(f'Testing Classification report: \\n{classification_report(y_test, y_pred)}')"
   ]
  },
  {
   "cell_type": "markdown",
   "id": "bbd8ebe2",
   "metadata": {},
   "source": [
    "------------------------------------------------------------------------------"
   ]
  },
  {
   "cell_type": "markdown",
   "id": "ef94d304",
   "metadata": {},
   "source": [
    "<a class=\"anchor\"  id=\"7\"></a>\n",
    "<div style=\" text-align: center; justify-content: center; align-items: center; background-color: lightblue; padding: 10px;  border-radius: 10px;\">\n",
    "    <h1 style=\"color: black;  margin-top: 9px; margin-bottom: 9px; \">7- Models Predictions Conclusion💡</h1>\n",
    "</div>"
   ]
  },
  {
   "cell_type": "markdown",
   "id": "db376b55",
   "metadata": {},
   "source": [
    ">**Note :** The key factor in model selection is \"recall,\" which measures Type 2 errors. The goal is to minimize recall errors to avoid false negatives for heart attack predictions."
   ]
  },
  {
   "cell_type": "markdown",
   "id": "20a5595d",
   "metadata": {},
   "source": [
    "<ul>\n",
    "<li>Logistic Regression achieved good accuracy in both training (86%) and testing (89%) with a low recall error of 3.</li><br>\n",
    "<li>K-Nearest Neighbors (KNN) performed well in training (89%) but had a slightly lower testing accuracy (82%) and a recall error of 4.</li><br>\n",
    "<li>Support Vector Classifier (SVC) excelled in training with a 92% accuracy but showed overfitting in testing with 82% accuracy.</li><br>\n",
    "    <li>Naive Bayes maintained consistent accuracy (84%) but had a higher recall error of 6.</li><br>\n",
    "<li>Models like Decision Trees, Random Forest, Ada Boost, Gradient Boost, and XGBoost performed exceptionally in training but struggled in testing, possibly due to overfitting.</li><br>\n",
    "<li>Logistic Regression is the preferred model for this problem, Considering its good testing performance and low recall error.</li><br>\n",
    "</ul>"
   ]
  }
 ],
 "metadata": {
  "kernelspec": {
   "display_name": "Python 3 (ipykernel)",
   "language": "python",
   "name": "python3"
  },
  "language_info": {
   "codemirror_mode": {
    "name": "ipython",
    "version": 3
   },
   "file_extension": ".py",
   "mimetype": "text/x-python",
   "name": "python",
   "nbconvert_exporter": "python",
   "pygments_lexer": "ipython3",
   "version": "3.9.16"
  }
 },
 "nbformat": 4,
 "nbformat_minor": 5
}
